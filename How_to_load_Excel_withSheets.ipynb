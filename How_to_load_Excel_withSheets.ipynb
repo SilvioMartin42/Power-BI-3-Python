{
 "cells": [
  {
   "cell_type": "markdown",
   "id": "18a11cde",
   "metadata": {},
   "source": [
    "# load excel"
   ]
  },
  {
   "cell_type": "code",
   "execution_count": 1,
   "id": "57f7284b",
   "metadata": {},
   "outputs": [],
   "source": [
    "#pip install openpyxl"
   ]
  },
  {
   "cell_type": "code",
   "execution_count": 2,
   "id": "9960e2c5",
   "metadata": {},
   "outputs": [],
   "source": [
    "#pip install --upgrade pandas --user"
   ]
  },
  {
   "cell_type": "code",
   "execution_count": 12,
   "id": "3595a8d1",
   "metadata": {},
   "outputs": [],
   "source": [
    "import pandas as pd\n",
    "\n",
    "data = pd.read_excel(\"Adventure Works_Database.xlsx\",sheet_name=None)\n"
   ]
  },
  {
   "cell_type": "code",
   "execution_count": 17,
   "id": "7ccad079",
   "metadata": {},
   "outputs": [
    {
     "data": {
      "text/plain": [
       "pandas.core.frame.DataFrame"
      ]
     },
     "execution_count": 17,
     "metadata": {},
     "output_type": "execute_result"
    }
   ],
   "source": [
    "type(data['Sheet2'])"
   ]
  },
  {
   "cell_type": "code",
   "execution_count": 19,
   "id": "234f5491",
   "metadata": {},
   "outputs": [],
   "source": [
    "#get tables out\n",
    "Factsales = data['Sheet5']\n",
    "dimdate = data['Sheet2']\n",
    "dimcustomer = data['Sheet3']\n",
    "dimproduct = data['Sheet4']\n",
    "dimterritories = data['Sheet6']\n"
   ]
  },
  {
   "cell_type": "code",
   "execution_count": null,
   "id": "f8a8b96d",
   "metadata": {},
   "outputs": [],
   "source": [
    "#join necessary sheets: \n",
    "#* set = factsales and dimproduct using productkey\n",
    "#* join to set: dimcustomer"
   ]
  }
 ],
 "metadata": {
  "kernelspec": {
   "display_name": "Python 3 (ipykernel)",
   "language": "python",
   "name": "python3"
  },
  "language_info": {
   "codemirror_mode": {
    "name": "ipython",
    "version": 3
   },
   "file_extension": ".py",
   "mimetype": "text/x-python",
   "name": "python",
   "nbconvert_exporter": "python",
   "pygments_lexer": "ipython3",
   "version": "3.8.12"
  }
 },
 "nbformat": 4,
 "nbformat_minor": 5
}
